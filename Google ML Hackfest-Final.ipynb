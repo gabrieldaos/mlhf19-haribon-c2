{
 "cells": [
  {
   "cell_type": "code",
   "execution_count": 1,
   "metadata": {},
   "outputs": [],
   "source": [
    "import pandas as pd\n",
    "import matplotlib as plt\n",
    "%matplotlib inline\n",
    "import seaborn as sns\n",
    "import pandas_profiling\n"
   ]
  },
  {
   "cell_type": "code",
   "execution_count": 4,
   "metadata": {},
   "outputs": [],
   "source": [
    "train = pd.read_csv('train.csv')\n",
    "test = pd.read_csv('test.csv')"
   ]
  },
  {
   "cell_type": "code",
   "execution_count": 5,
   "metadata": {},
   "outputs": [],
   "source": [
    "profile = train.profile_report(title='Haribon Profiling Report')\n",
    "profile.to_file(output_file=\"haribon_pandas_profiling.html\")\n",
    "\n",
    "profile = test.profile_report(title='Test Haribon Profiling Report')\n",
    "profile.to_file(output_file=\"test_haribon_pandas_profiling.html\")"
   ]
  },
  {
   "cell_type": "markdown",
   "metadata": {},
   "source": [
    "## Data Prep"
   ]
  },
  {
   "cell_type": "code",
   "execution_count": 7,
   "metadata": {},
   "outputs": [
    {
     "data": {
      "text/html": [
       "<div>\n",
       "<style scoped>\n",
       "    .dataframe tbody tr th:only-of-type {\n",
       "        vertical-align: middle;\n",
       "    }\n",
       "\n",
       "    .dataframe tbody tr th {\n",
       "        vertical-align: top;\n",
       "    }\n",
       "\n",
       "    .dataframe thead th {\n",
       "        text-align: right;\n",
       "    }\n",
       "</style>\n",
       "<table border=\"1\" class=\"dataframe\">\n",
       "  <thead>\n",
       "    <tr style=\"text-align: right;\">\n",
       "      <th></th>\n",
       "      <th>Annual_Mean_Temperature</th>\n",
       "      <th>Mean_Diurnal_Range</th>\n",
       "      <th>Isothermality</th>\n",
       "      <th>Temperature_Seasonality</th>\n",
       "      <th>Max_Temperature_of_Warmest_Month</th>\n",
       "      <th>Min_Temperature_of_Coldest_Month</th>\n",
       "      <th>Temperature_Annual_Range</th>\n",
       "      <th>Mean_Temperature_of_Wettest_Quarter</th>\n",
       "      <th>Mean_Temperature_of_Driest_Quarter</th>\n",
       "      <th>Mean_Temperature_of_Warmest_Quarter</th>\n",
       "      <th>Mean_Temperature_of_Coldest_Quarter</th>\n",
       "      <th>Annual_Precipitation</th>\n",
       "      <th>Precipitation_of_Wettest_Month</th>\n",
       "      <th>Precipitation_of_Driest_Month</th>\n",
       "      <th>Precipitation_Seasonality</th>\n",
       "      <th>Precipitation_of_Wettest_Quarter</th>\n",
       "      <th>Precipitation_of_Driest_Quarter</th>\n",
       "      <th>Precipitation_of_Warmest_Quarter</th>\n",
       "      <th>Precipitation_of_Coldest_Quarter</th>\n",
       "    </tr>\n",
       "  </thead>\n",
       "  <tbody>\n",
       "    <tr>\n",
       "      <th>0</th>\n",
       "      <td>NaN</td>\n",
       "      <td>NaN</td>\n",
       "      <td>NaN</td>\n",
       "      <td>NaN</td>\n",
       "      <td>NaN</td>\n",
       "      <td>NaN</td>\n",
       "      <td>NaN</td>\n",
       "      <td>NaN</td>\n",
       "      <td>NaN</td>\n",
       "      <td>NaN</td>\n",
       "      <td>NaN</td>\n",
       "      <td>NaN</td>\n",
       "      <td>NaN</td>\n",
       "      <td>NaN</td>\n",
       "      <td>NaN</td>\n",
       "      <td>NaN</td>\n",
       "      <td>NaN</td>\n",
       "      <td>NaN</td>\n",
       "      <td>NaN</td>\n",
       "    </tr>\n",
       "    <tr>\n",
       "      <th>1</th>\n",
       "      <td>NaN</td>\n",
       "      <td>NaN</td>\n",
       "      <td>NaN</td>\n",
       "      <td>NaN</td>\n",
       "      <td>NaN</td>\n",
       "      <td>NaN</td>\n",
       "      <td>NaN</td>\n",
       "      <td>NaN</td>\n",
       "      <td>NaN</td>\n",
       "      <td>NaN</td>\n",
       "      <td>NaN</td>\n",
       "      <td>NaN</td>\n",
       "      <td>NaN</td>\n",
       "      <td>NaN</td>\n",
       "      <td>NaN</td>\n",
       "      <td>NaN</td>\n",
       "      <td>NaN</td>\n",
       "      <td>NaN</td>\n",
       "      <td>NaN</td>\n",
       "    </tr>\n",
       "    <tr>\n",
       "      <th>2</th>\n",
       "      <td>63.090</td>\n",
       "      <td>19.902</td>\n",
       "      <td>2432.0</td>\n",
       "      <td>25.639</td>\n",
       "      <td>117.493</td>\n",
       "      <td>420.0</td>\n",
       "      <td>7.148</td>\n",
       "      <td>25.357</td>\n",
       "      <td>462.0</td>\n",
       "      <td>178.0</td>\n",
       "      <td>896.0</td>\n",
       "      <td>11.330</td>\n",
       "      <td>26.975</td>\n",
       "      <td>52.334</td>\n",
       "      <td>31.232</td>\n",
       "      <td>53.0</td>\n",
       "      <td>305.0</td>\n",
       "      <td>26.028</td>\n",
       "      <td>23.993</td>\n",
       "    </tr>\n",
       "    <tr>\n",
       "      <th>3</th>\n",
       "      <td>66.983</td>\n",
       "      <td>20.849</td>\n",
       "      <td>2044.0</td>\n",
       "      <td>26.936</td>\n",
       "      <td>112.042</td>\n",
       "      <td>166.0</td>\n",
       "      <td>8.192</td>\n",
       "      <td>25.870</td>\n",
       "      <td>419.0</td>\n",
       "      <td>71.0</td>\n",
       "      <td>971.0</td>\n",
       "      <td>12.230</td>\n",
       "      <td>28.357</td>\n",
       "      <td>73.092</td>\n",
       "      <td>33.079</td>\n",
       "      <td>15.0</td>\n",
       "      <td>340.0</td>\n",
       "      <td>27.275</td>\n",
       "      <td>25.442</td>\n",
       "    </tr>\n",
       "    <tr>\n",
       "      <th>4</th>\n",
       "      <td>76.739</td>\n",
       "      <td>21.074</td>\n",
       "      <td>2113.0</td>\n",
       "      <td>26.943</td>\n",
       "      <td>63.116</td>\n",
       "      <td>569.0</td>\n",
       "      <td>9.091</td>\n",
       "      <td>27.528</td>\n",
       "      <td>589.0</td>\n",
       "      <td>429.0</td>\n",
       "      <td>663.0</td>\n",
       "      <td>11.847</td>\n",
       "      <td>27.757</td>\n",
       "      <td>26.627</td>\n",
       "      <td>32.921</td>\n",
       "      <td>135.0</td>\n",
       "      <td>298.0</td>\n",
       "      <td>27.095</td>\n",
       "      <td>26.139</td>\n",
       "    </tr>\n",
       "  </tbody>\n",
       "</table>\n",
       "</div>"
      ],
      "text/plain": [
       "   Annual_Mean_Temperature  Mean_Diurnal_Range  Isothermality  \\\n",
       "0                      NaN                 NaN            NaN   \n",
       "1                      NaN                 NaN            NaN   \n",
       "2                   63.090              19.902         2432.0   \n",
       "3                   66.983              20.849         2044.0   \n",
       "4                   76.739              21.074         2113.0   \n",
       "\n",
       "   Temperature_Seasonality  Max_Temperature_of_Warmest_Month  \\\n",
       "0                      NaN                               NaN   \n",
       "1                      NaN                               NaN   \n",
       "2                   25.639                           117.493   \n",
       "3                   26.936                           112.042   \n",
       "4                   26.943                            63.116   \n",
       "\n",
       "   Min_Temperature_of_Coldest_Month  Temperature_Annual_Range  \\\n",
       "0                               NaN                       NaN   \n",
       "1                               NaN                       NaN   \n",
       "2                             420.0                     7.148   \n",
       "3                             166.0                     8.192   \n",
       "4                             569.0                     9.091   \n",
       "\n",
       "   Mean_Temperature_of_Wettest_Quarter  Mean_Temperature_of_Driest_Quarter  \\\n",
       "0                                  NaN                                 NaN   \n",
       "1                                  NaN                                 NaN   \n",
       "2                               25.357                               462.0   \n",
       "3                               25.870                               419.0   \n",
       "4                               27.528                               589.0   \n",
       "\n",
       "   Mean_Temperature_of_Warmest_Quarter  Mean_Temperature_of_Coldest_Quarter  \\\n",
       "0                                  NaN                                  NaN   \n",
       "1                                  NaN                                  NaN   \n",
       "2                                178.0                                896.0   \n",
       "3                                 71.0                                971.0   \n",
       "4                                429.0                                663.0   \n",
       "\n",
       "   Annual_Precipitation  Precipitation_of_Wettest_Month  \\\n",
       "0                   NaN                             NaN   \n",
       "1                   NaN                             NaN   \n",
       "2                11.330                          26.975   \n",
       "3                12.230                          28.357   \n",
       "4                11.847                          27.757   \n",
       "\n",
       "   Precipitation_of_Driest_Month  Precipitation_Seasonality  \\\n",
       "0                            NaN                        NaN   \n",
       "1                            NaN                        NaN   \n",
       "2                         52.334                     31.232   \n",
       "3                         73.092                     33.079   \n",
       "4                         26.627                     32.921   \n",
       "\n",
       "   Precipitation_of_Wettest_Quarter  Precipitation_of_Driest_Quarter  \\\n",
       "0                               NaN                              NaN   \n",
       "1                               NaN                              NaN   \n",
       "2                              53.0                            305.0   \n",
       "3                              15.0                            340.0   \n",
       "4                             135.0                            298.0   \n",
       "\n",
       "   Precipitation_of_Warmest_Quarter  Precipitation_of_Coldest_Quarter  \n",
       "0                               NaN                               NaN  \n",
       "1                               NaN                               NaN  \n",
       "2                            26.028                            23.993  \n",
       "3                            27.275                            25.442  \n",
       "4                            27.095                            26.139  "
      ]
     },
     "execution_count": 7,
     "metadata": {},
     "output_type": "execute_result"
    }
   ],
   "source": [
    "# Test data for KNN\n",
    "\n",
    "k_train = train\n",
    "k_test = test\n",
    "k_train = k_train.drop(\"indexId\", axis=1)\n",
    "k_test = k_test.drop(\"indexId\", axis=1)\n",
    "\n",
    "# Splitting for training\n",
    "\n",
    "X_k_train = k_train.drop(\"Scientific_Name\", axis=1)\n",
    "Y_k_train = k_train['Scientific_Name']\n",
    "X_k_train.head()"
   ]
  },
  {
   "cell_type": "markdown",
   "metadata": {},
   "source": [
    "### Feature engineering"
   ]
  },
  {
   "cell_type": "code",
   "execution_count": 9,
   "metadata": {},
   "outputs": [],
   "source": [
    "import sys\n",
    "from impyute.imputation.cs import fast_knn\n",
    "sys.setrecursionlimit(100000)"
   ]
  },
  {
   "cell_type": "markdown",
   "metadata": {},
   "source": [
    "### KNN Imputation"
   ]
  },
  {
   "cell_type": "code",
   "execution_count": 10,
   "metadata": {},
   "outputs": [],
   "source": [
    "X_k_train = pd.DataFrame(fast_knn(X_k_train.values, k=30), columns = X_k_train.columns)"
   ]
  },
  {
   "cell_type": "code",
   "execution_count": 11,
   "metadata": {},
   "outputs": [
    {
     "data": {
      "text/plain": [
       "array(['Cacatua haematuropygia', 'Anas luzonica', 'Pithecophaga jeffeyri',\n",
       "       'Alcedo argentata', 'Egretta eulophotes'], dtype=object)"
      ]
     },
     "execution_count": 11,
     "metadata": {},
     "output_type": "execute_result"
    }
   ],
   "source": [
    "Y_k_train.unique()"
   ]
  },
  {
   "cell_type": "code",
   "execution_count": 12,
   "metadata": {},
   "outputs": [],
   "source": [
    "Y_k_train = Y_k_train.replace(['Cacatua haematuropygia', 'Anas luzonica', 'Pithecophaga jeffeyri',\n",
    "       'Alcedo argentata', 'Egretta eulophotes'],[1,2,3,4,5])"
   ]
  },
  {
   "cell_type": "markdown",
   "metadata": {},
   "source": [
    "## XGBOOST"
   ]
  },
  {
   "cell_type": "code",
   "execution_count": 13,
   "metadata": {},
   "outputs": [],
   "source": [
    "from xgboost import XGBClassifier\n",
    "from sklearn.metrics import accuracy_score"
   ]
  },
  {
   "cell_type": "code",
   "execution_count": 19,
   "metadata": {},
   "outputs": [
    {
     "data": {
      "text/plain": [
       "XGBClassifier(base_score=0.5, booster='gbtree', colsample_bylevel=1,\n",
       "              colsample_bynode=1, colsample_bytree=1, gamma=0,\n",
       "              learning_rate=0.04, max_delta_step=0, max_depth=8,\n",
       "              min_child_weight=1, missing=None, n_estimators=300, n_jobs=1,\n",
       "              nthread=None, objective='multi:softprob', random_state=0,\n",
       "              reg_alpha=0, reg_lambda=1, scale_pos_weight=1, seed=None,\n",
       "              silent=None, subsample=1, verbosity=1)"
      ]
     },
     "execution_count": 19,
     "metadata": {},
     "output_type": "execute_result"
    }
   ],
   "source": [
    "XG = XGBClassifier(learning_rate = 0.04, n_estimators=300, max_depth=8)\n",
    "XG.fit(X_k_train, Y_k_train)"
   ]
  },
  {
   "cell_type": "markdown",
   "metadata": {},
   "source": [
    "# Results"
   ]
  },
  {
   "cell_type": "code",
   "execution_count": 20,
   "metadata": {},
   "outputs": [],
   "source": [
    "output = test\n",
    "output['Predicted'] = XG.predict(k_test) \n",
    "output = output[['indexId', 'Predicted']]"
   ]
  },
  {
   "cell_type": "code",
   "execution_count": 21,
   "metadata": {},
   "outputs": [],
   "source": [
    "output['Predicted'] = output['Predicted'].replace([1,2,3,4,5],['Cacatua haematuropygia', 'Anas luzonica', 'Pithecophaga jeffeyri',\n",
    "       'Alcedo argentata', 'Egretta eulophotes'])"
   ]
  },
  {
   "cell_type": "code",
   "execution_count": 22,
   "metadata": {},
   "outputs": [],
   "source": [
    "output.to_csv('cohortII_haribon_predict.csv',  index=False)"
   ]
  },
  {
   "cell_type": "code",
   "execution_count": 18,
   "metadata": {},
   "outputs": [
    {
     "data": {
      "text/plain": [
       "0     Cacatua haematuropygia\n",
       "1         Egretta eulophotes\n",
       "2     Cacatua haematuropygia\n",
       "3     Cacatua haematuropygia\n",
       "4      Pithecophaga jeffeyri\n",
       "5              Anas luzonica\n",
       "6      Pithecophaga jeffeyri\n",
       "7      Pithecophaga jeffeyri\n",
       "8           Alcedo argentata\n",
       "9         Egretta eulophotes\n",
       "10     Pithecophaga jeffeyri\n",
       "11     Pithecophaga jeffeyri\n",
       "12        Egretta eulophotes\n",
       "13    Cacatua haematuropygia\n",
       "14    Cacatua haematuropygia\n",
       "15             Anas luzonica\n",
       "16          Alcedo argentata\n",
       "17     Pithecophaga jeffeyri\n",
       "18          Alcedo argentata\n",
       "19    Cacatua haematuropygia\n",
       "20    Cacatua haematuropygia\n",
       "21    Cacatua haematuropygia\n",
       "22     Pithecophaga jeffeyri\n",
       "23    Cacatua haematuropygia\n",
       "24    Cacatua haematuropygia\n",
       "25    Cacatua haematuropygia\n",
       "26             Anas luzonica\n",
       "27             Anas luzonica\n",
       "28     Pithecophaga jeffeyri\n",
       "29        Egretta eulophotes\n",
       "               ...          \n",
       "50             Anas luzonica\n",
       "51    Cacatua haematuropygia\n",
       "52     Pithecophaga jeffeyri\n",
       "53     Pithecophaga jeffeyri\n",
       "54          Alcedo argentata\n",
       "55     Pithecophaga jeffeyri\n",
       "56             Anas luzonica\n",
       "57          Alcedo argentata\n",
       "58             Anas luzonica\n",
       "59     Pithecophaga jeffeyri\n",
       "60    Cacatua haematuropygia\n",
       "61     Pithecophaga jeffeyri\n",
       "62          Alcedo argentata\n",
       "63    Cacatua haematuropygia\n",
       "64    Cacatua haematuropygia\n",
       "65     Pithecophaga jeffeyri\n",
       "66    Cacatua haematuropygia\n",
       "67    Cacatua haematuropygia\n",
       "68     Pithecophaga jeffeyri\n",
       "69     Pithecophaga jeffeyri\n",
       "70          Alcedo argentata\n",
       "71             Anas luzonica\n",
       "72    Cacatua haematuropygia\n",
       "73    Cacatua haematuropygia\n",
       "74    Cacatua haematuropygia\n",
       "75     Pithecophaga jeffeyri\n",
       "76     Pithecophaga jeffeyri\n",
       "77     Pithecophaga jeffeyri\n",
       "78          Alcedo argentata\n",
       "79        Egretta eulophotes\n",
       "Name: Predicted, Length: 80, dtype: object"
      ]
     },
     "execution_count": 18,
     "metadata": {},
     "output_type": "execute_result"
    }
   ],
   "source": [
    "output['Predicted']"
   ]
  },
  {
   "cell_type": "code",
   "execution_count": null,
   "metadata": {},
   "outputs": [],
   "source": []
  }
 ],
 "metadata": {
  "kernelspec": {
   "display_name": "Python 3",
   "language": "python",
   "name": "python3"
  },
  "language_info": {
   "codemirror_mode": {
    "name": "ipython",
    "version": 3
   },
   "file_extension": ".py",
   "mimetype": "text/x-python",
   "name": "python",
   "nbconvert_exporter": "python",
   "pygments_lexer": "ipython3",
   "version": "3.7.3"
  }
 },
 "nbformat": 4,
 "nbformat_minor": 2
}
