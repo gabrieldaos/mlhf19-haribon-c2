{
 "cells": [
  {
   "cell_type": "code",
   "execution_count": 1,
   "metadata": {},
   "outputs": [],
   "source": [
    "import pandas as pd\n",
    "import matplotlib as plt\n",
    "%matplotlib inline\n",
    "import seaborn as sns\n",
    "import pandas_profiling\n"
   ]
  },
  {
   "cell_type": "code",
   "execution_count": 2,
   "metadata": {},
   "outputs": [],
   "source": [
    "train = pd.read_csv('train.csv')\n",
    "test = pd.read_csv('test.csv')"
   ]
  },
  {
   "cell_type": "code",
   "execution_count": null,
   "metadata": {},
   "outputs": [],
   "source": [
    "profile = train.profile_report(title='Haribon Profiling Report')\n",
    "profile.to_file(output_file=\"haribon_pandas_profiling.html\")\n",
    "\n",
    "profile = test.profile_report(title='Test Haribon Profiling Report')\n",
    "profile.to_file(output_file=\"test_haribon_pandas_profiling.html\")"
   ]
  },
  {
   "cell_type": "markdown",
   "metadata": {},
   "source": [
    "## Data Prep"
   ]
  },
  {
   "cell_type": "code",
   "execution_count": 3,
   "metadata": {},
   "outputs": [
    {
     "data": {
      "text/html": [
       "<div>\n",
       "<style scoped>\n",
       "    .dataframe tbody tr th:only-of-type {\n",
       "        vertical-align: middle;\n",
       "    }\n",
       "\n",
       "    .dataframe tbody tr th {\n",
       "        vertical-align: top;\n",
       "    }\n",
       "\n",
       "    .dataframe thead th {\n",
       "        text-align: right;\n",
       "    }\n",
       "</style>\n",
       "<table border=\"1\" class=\"dataframe\">\n",
       "  <thead>\n",
       "    <tr style=\"text-align: right;\">\n",
       "      <th></th>\n",
       "      <th>Scientific Name</th>\n",
       "      <th>Annual Mean Temperature</th>\n",
       "      <th>Mean Diurnal Range</th>\n",
       "      <th>Isothermality</th>\n",
       "      <th>Temperature Seasonality</th>\n",
       "      <th>Max Temperature of Warmest Month</th>\n",
       "      <th>Min Temperature of Coldest Month</th>\n",
       "      <th>Temperature Annual Range</th>\n",
       "      <th>Mean Temperature of Wettest Quarter</th>\n",
       "      <th>Mean Temperature of Driest Quarter</th>\n",
       "      <th>Mean Temperature of Warmest Quarter</th>\n",
       "      <th>Mean Temperature of Coldest Quarter</th>\n",
       "      <th>Annual Precipitation</th>\n",
       "      <th>Precipitation of Wettest Month</th>\n",
       "      <th>Precipitation of Driest Month</th>\n",
       "      <th>Precipitation Seasonality</th>\n",
       "      <th>Precipitation of Wettest Quarter</th>\n",
       "      <th>Precipitation of Driest Quarter</th>\n",
       "      <th>Precipitation of Warmest Quarter</th>\n",
       "      <th>Precipitation of Coldest Quarter</th>\n",
       "    </tr>\n",
       "    <tr>\n",
       "      <th>indexId</th>\n",
       "      <th></th>\n",
       "      <th></th>\n",
       "      <th></th>\n",
       "      <th></th>\n",
       "      <th></th>\n",
       "      <th></th>\n",
       "      <th></th>\n",
       "      <th></th>\n",
       "      <th></th>\n",
       "      <th></th>\n",
       "      <th></th>\n",
       "      <th></th>\n",
       "      <th></th>\n",
       "      <th></th>\n",
       "      <th></th>\n",
       "      <th></th>\n",
       "      <th></th>\n",
       "      <th></th>\n",
       "      <th></th>\n",
       "      <th></th>\n",
       "    </tr>\n",
       "  </thead>\n",
       "  <tbody>\n",
       "    <tr>\n",
       "      <th>1</th>\n",
       "      <td>Cacatua haematuropygia</td>\n",
       "      <td>NaN</td>\n",
       "      <td>NaN</td>\n",
       "      <td>NaN</td>\n",
       "      <td>NaN</td>\n",
       "      <td>NaN</td>\n",
       "      <td>NaN</td>\n",
       "      <td>NaN</td>\n",
       "      <td>NaN</td>\n",
       "      <td>NaN</td>\n",
       "      <td>NaN</td>\n",
       "      <td>NaN</td>\n",
       "      <td>NaN</td>\n",
       "      <td>NaN</td>\n",
       "      <td>NaN</td>\n",
       "      <td>NaN</td>\n",
       "      <td>NaN</td>\n",
       "      <td>NaN</td>\n",
       "      <td>NaN</td>\n",
       "      <td>NaN</td>\n",
       "    </tr>\n",
       "    <tr>\n",
       "      <th>4</th>\n",
       "      <td>Anas luzonica</td>\n",
       "      <td>NaN</td>\n",
       "      <td>NaN</td>\n",
       "      <td>NaN</td>\n",
       "      <td>NaN</td>\n",
       "      <td>NaN</td>\n",
       "      <td>NaN</td>\n",
       "      <td>NaN</td>\n",
       "      <td>NaN</td>\n",
       "      <td>NaN</td>\n",
       "      <td>NaN</td>\n",
       "      <td>NaN</td>\n",
       "      <td>NaN</td>\n",
       "      <td>NaN</td>\n",
       "      <td>NaN</td>\n",
       "      <td>NaN</td>\n",
       "      <td>NaN</td>\n",
       "      <td>NaN</td>\n",
       "      <td>NaN</td>\n",
       "      <td>NaN</td>\n",
       "    </tr>\n",
       "    <tr>\n",
       "      <th>7</th>\n",
       "      <td>Cacatua haematuropygia</td>\n",
       "      <td>63.090</td>\n",
       "      <td>19.902</td>\n",
       "      <td>2432.0</td>\n",
       "      <td>25.639</td>\n",
       "      <td>117.493</td>\n",
       "      <td>420.0</td>\n",
       "      <td>7.148</td>\n",
       "      <td>25.357</td>\n",
       "      <td>462.0</td>\n",
       "      <td>178.0</td>\n",
       "      <td>896.0</td>\n",
       "      <td>11.330</td>\n",
       "      <td>26.975</td>\n",
       "      <td>52.334</td>\n",
       "      <td>31.232</td>\n",
       "      <td>53.0</td>\n",
       "      <td>305.0</td>\n",
       "      <td>26.028</td>\n",
       "      <td>23.993</td>\n",
       "    </tr>\n",
       "    <tr>\n",
       "      <th>8</th>\n",
       "      <td>Pithecophaga jeffeyri</td>\n",
       "      <td>66.983</td>\n",
       "      <td>20.849</td>\n",
       "      <td>2044.0</td>\n",
       "      <td>26.936</td>\n",
       "      <td>112.042</td>\n",
       "      <td>166.0</td>\n",
       "      <td>8.192</td>\n",
       "      <td>25.870</td>\n",
       "      <td>419.0</td>\n",
       "      <td>71.0</td>\n",
       "      <td>971.0</td>\n",
       "      <td>12.230</td>\n",
       "      <td>28.357</td>\n",
       "      <td>73.092</td>\n",
       "      <td>33.079</td>\n",
       "      <td>15.0</td>\n",
       "      <td>340.0</td>\n",
       "      <td>27.275</td>\n",
       "      <td>25.442</td>\n",
       "    </tr>\n",
       "    <tr>\n",
       "      <th>10</th>\n",
       "      <td>Cacatua haematuropygia</td>\n",
       "      <td>76.739</td>\n",
       "      <td>21.074</td>\n",
       "      <td>2113.0</td>\n",
       "      <td>26.943</td>\n",
       "      <td>63.116</td>\n",
       "      <td>569.0</td>\n",
       "      <td>9.091</td>\n",
       "      <td>27.528</td>\n",
       "      <td>589.0</td>\n",
       "      <td>429.0</td>\n",
       "      <td>663.0</td>\n",
       "      <td>11.847</td>\n",
       "      <td>27.757</td>\n",
       "      <td>26.627</td>\n",
       "      <td>32.921</td>\n",
       "      <td>135.0</td>\n",
       "      <td>298.0</td>\n",
       "      <td>27.095</td>\n",
       "      <td>26.139</td>\n",
       "    </tr>\n",
       "  </tbody>\n",
       "</table>\n",
       "</div>"
      ],
      "text/plain": [
       "                Scientific Name  Annual Mean Temperature  Mean Diurnal Range  \\\n",
       "indexId                                                                        \n",
       "1        Cacatua haematuropygia                      NaN                 NaN   \n",
       "4                 Anas luzonica                      NaN                 NaN   \n",
       "7        Cacatua haematuropygia                   63.090              19.902   \n",
       "8         Pithecophaga jeffeyri                   66.983              20.849   \n",
       "10       Cacatua haematuropygia                   76.739              21.074   \n",
       "\n",
       "         Isothermality  Temperature Seasonality  \\\n",
       "indexId                                           \n",
       "1                  NaN                      NaN   \n",
       "4                  NaN                      NaN   \n",
       "7               2432.0                   25.639   \n",
       "8               2044.0                   26.936   \n",
       "10              2113.0                   26.943   \n",
       "\n",
       "         Max Temperature of Warmest Month  Min Temperature of Coldest Month  \\\n",
       "indexId                                                                       \n",
       "1                                     NaN                               NaN   \n",
       "4                                     NaN                               NaN   \n",
       "7                                 117.493                             420.0   \n",
       "8                                 112.042                             166.0   \n",
       "10                                 63.116                             569.0   \n",
       "\n",
       "         Temperature Annual Range  Mean Temperature of Wettest Quarter  \\\n",
       "indexId                                                                  \n",
       "1                             NaN                                  NaN   \n",
       "4                             NaN                                  NaN   \n",
       "7                           7.148                               25.357   \n",
       "8                           8.192                               25.870   \n",
       "10                          9.091                               27.528   \n",
       "\n",
       "         Mean Temperature of Driest Quarter  \\\n",
       "indexId                                       \n",
       "1                                       NaN   \n",
       "4                                       NaN   \n",
       "7                                     462.0   \n",
       "8                                     419.0   \n",
       "10                                    589.0   \n",
       "\n",
       "         Mean Temperature of Warmest Quarter  \\\n",
       "indexId                                        \n",
       "1                                        NaN   \n",
       "4                                        NaN   \n",
       "7                                      178.0   \n",
       "8                                       71.0   \n",
       "10                                     429.0   \n",
       "\n",
       "         Mean Temperature of Coldest Quarter  Annual Precipitation  \\\n",
       "indexId                                                              \n",
       "1                                        NaN                   NaN   \n",
       "4                                        NaN                   NaN   \n",
       "7                                      896.0                11.330   \n",
       "8                                      971.0                12.230   \n",
       "10                                     663.0                11.847   \n",
       "\n",
       "         Precipitation of Wettest Month  Precipitation of Driest Month  \\\n",
       "indexId                                                                  \n",
       "1                                   NaN                            NaN   \n",
       "4                                   NaN                            NaN   \n",
       "7                                26.975                         52.334   \n",
       "8                                28.357                         73.092   \n",
       "10                               27.757                         26.627   \n",
       "\n",
       "         Precipitation Seasonality  Precipitation of Wettest Quarter  \\\n",
       "indexId                                                                \n",
       "1                              NaN                               NaN   \n",
       "4                              NaN                               NaN   \n",
       "7                           31.232                              53.0   \n",
       "8                           33.079                              15.0   \n",
       "10                          32.921                             135.0   \n",
       "\n",
       "         Precipitation of Driest Quarter  Precipitation of Warmest Quarter  \\\n",
       "indexId                                                                      \n",
       "1                                    NaN                               NaN   \n",
       "4                                    NaN                               NaN   \n",
       "7                                  305.0                            26.028   \n",
       "8                                  340.0                            27.275   \n",
       "10                                 298.0                            27.095   \n",
       "\n",
       "         Precipitation of Coldest Quarter  \n",
       "indexId                                    \n",
       "1                                     NaN  \n",
       "4                                     NaN  \n",
       "7                                  23.993  \n",
       "8                                  25.442  \n",
       "10                                 26.139  "
      ]
     },
     "execution_count": 3,
     "metadata": {},
     "output_type": "execute_result"
    }
   ],
   "source": [
    "train.set_index(keys='indexId',inplace=True)\n",
    "train.head()"
   ]
  },
  {
   "cell_type": "code",
   "execution_count": 4,
   "metadata": {},
   "outputs": [],
   "source": [
    "X = train.drop('Scientific Name', axis=1)\n",
    "y = train['Scientific Name']"
   ]
  },
  {
   "cell_type": "code",
   "execution_count": 5,
   "metadata": {},
   "outputs": [],
   "source": [
    "import sys\n",
    "from impyute.imputation.cs import fast_knn\n",
    "sys.setrecursionlimit(100000) #Increase the recursion limit of the OS\n",
    "X = pd.DataFrame(fast_knn(X.values, k=30), columns = X.columns)"
   ]
  },
  {
   "cell_type": "code",
   "execution_count": 6,
   "metadata": {},
   "outputs": [],
   "source": [
    "from imblearn.over_sampling import SMOTE\n",
    "sm = SMOTE(random_state=42)\n",
    "X_res, y_res = sm.fit_resample(X, y)"
   ]
  },
  {
   "cell_type": "code",
   "execution_count": 7,
   "metadata": {},
   "outputs": [],
   "source": [
    "from sklearn import model_selection as ms\n",
    "X_train,X_test,y_train,y_test = ms.train_test_split(X_res,y_res,test_size=0.2)"
   ]
  },
  {
   "cell_type": "code",
   "execution_count": 8,
   "metadata": {},
   "outputs": [],
   "source": [
    "from xgboost import XGBClassifier\n",
    "from sklearn.metrics import accuracy_score\n",
    "XG = XGBClassifier(learning_rate = 0.05, n_estimators=300, max_depth=5)\n",
    "XG.fit(X_train, y_train)\n",
    "xgb_pred = XG.predict(X_test)"
   ]
  },
  {
   "cell_type": "code",
   "execution_count": 9,
   "metadata": {},
   "outputs": [
    {
     "data": {
      "text/plain": [
       "0.6498106347523103"
      ]
     },
     "execution_count": 9,
     "metadata": {},
     "output_type": "execute_result"
    }
   ],
   "source": [
    "from sklearn.metrics import f1_score\n",
    "\n",
    "f1_score(y_test,xgb_pred,average='macro')"
   ]
  },
  {
   "cell_type": "code",
   "execution_count": 13,
   "metadata": {},
   "outputs": [
    {
     "data": {
      "text/plain": [
       "0.44434450081508914"
      ]
     },
     "execution_count": 13,
     "metadata": {},
     "output_type": "execute_result"
    }
   ],
   "source": [
    "from sklearn.svm import SVC \n",
    "svm_model_linear = SVC(kernel = 'linear', C = 1).fit(X_train, y_train) \n",
    "svm_pred = svm_model_linear.predict(X_test) \n",
    "f1_score(y_test,svm_pred,average='mcro')"
   ]
  },
  {
   "cell_type": "code",
   "execution_count": 14,
   "metadata": {},
   "outputs": [
    {
     "data": {
      "text/plain": [
       "0.6624508611955421"
      ]
     },
     "execution_count": 14,
     "metadata": {},
     "output_type": "execute_result"
    }
   ],
   "source": [
    "from sklearn.neighbors import KNeighborsClassifier \n",
    "knn = KNeighborsClassifier(n_neighbors = 5, weights='distance').fit(X_train, y_train) \n",
    "knn.predict(X_test)  \n"
   ]
  },
  {
   "cell_type": "code",
   "execution_count": 15,
   "metadata": {},
   "outputs": [
    {
     "name": "stderr",
     "output_type": "stream",
     "text": [
      "C:\\Users\\Rosiel Jazmine V\\Anaconda3\\lib\\site-packages\\sklearn\\linear_model\\logistic.py:460: FutureWarning: Default multi_class will be changed to 'auto' in 0.22. Specify the multi_class option to silence this warning.\n",
      "  \"this warning.\", FutureWarning)\n"
     ]
    },
    {
     "data": {
      "text/plain": [
       "0.39142645971914264"
      ]
     },
     "execution_count": 15,
     "metadata": {},
     "output_type": "execute_result"
    }
   ],
   "source": [
    "from sklearn.linear_model import LogisticRegression\n",
    "logreg = LogisticRegression(C=1e50, solver='liblinear').fit(X_train, y_train)\n",
    "logreg_pred = logreg.predict(X_test)  \n",
    "f1_score(y_test,logreg_pred,average='macro')"
   ]
  },
  {
   "cell_type": "code",
   "execution_count": null,
   "metadata": {},
   "outputs": [],
   "source": []
  }
 ],
 "metadata": {
  "kernelspec": {
   "display_name": "Python 3",
   "language": "python",
   "name": "python3"
  },
  "language_info": {
   "codemirror_mode": {
    "name": "ipython",
    "version": 3
   },
   "file_extension": ".py",
   "mimetype": "text/x-python",
   "name": "python",
   "nbconvert_exporter": "python",
   "pygments_lexer": "ipython3",
   "version": "3.7.3"
  },
  "toc": {
   "base_numbering": 1,
   "nav_menu": {},
   "number_sections": true,
   "sideBar": true,
   "skip_h1_title": false,
   "title_cell": "Table of Contents",
   "title_sidebar": "Contents",
   "toc_cell": false,
   "toc_position": {},
   "toc_section_display": true,
   "toc_window_display": false
  }
 },
 "nbformat": 4,
 "nbformat_minor": 2
}
